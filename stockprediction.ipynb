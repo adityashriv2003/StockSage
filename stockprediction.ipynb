{
 "cells": [
  {
   "cell_type": "code",
   "execution_count": 8,
   "id": "6fe011d6",
   "metadata": {},
   "outputs": [
    {
     "name": "stderr",
     "output_type": "stream",
     "text": [
      "ERROR: Could not find a version that satisfies the requirement streamlit.cli (from versions: none)\n",
      "ERROR: No matching distribution found for streamlit.cli\n"
     ]
    }
   ],
   "source": [
    "!pip install streamlit.cli"
   ]
  },
  {
   "cell_type": "code",
   "execution_count": 1,
   "id": "133986d8",
   "metadata": {},
   "outputs": [],
   "source": [
    "import streamlit as st\n",
    "from datetime import date\n",
    "import prophet\n",
    "from prophet.plot import plot_plotly\n",
    "from plotly import graph_objs as go\n",
    "# plotly is a free and open-source graphing library for Python used to create \n",
    "#interactive graphs"
   ]
  },
  {
   "cell_type": "code",
   "execution_count": 2,
   "id": "a7462190",
   "metadata": {},
   "outputs": [],
   "source": [
    "# today's date:\n",
    "# strftime is used to convert our date into a string format\n",
    "# The strftime() method returns a string representing date and time using date, time or datetime\n",
    "today_date = date.today().strftime('%Y-%m-%d')\n",
    "start_date = '2016-05-08'"
   ]
  },
  {
   "cell_type": "code",
   "execution_count": 3,
   "id": "89121629",
   "metadata": {},
   "outputs": [
    {
     "name": "stderr",
     "output_type": "stream",
     "text": [
      "2023-05-28 13:14:05.476 \n",
      "  \u001b[33m\u001b[1mWarning:\u001b[0m to view this Streamlit app on a browser, run it with the following\n",
      "  command:\n",
      "\n",
      "    streamlit run C:\\Users\\adity\\anaconda3\\envs\\venv\\lib\\site-packages\\ipykernel_launcher.py [ARGUMENTS]\n"
     ]
    },
    {
     "data": {
      "text/plain": [
       "DeltaGenerator(_root_container=0, _provided_cursor=None, _parent=None, _block_type=None, _form_data=None)"
      ]
     },
     "execution_count": 3,
     "metadata": {},
     "output_type": "execute_result"
    }
   ],
   "source": [
    "# giving our web app a name \n",
    "st.title(\"Stock Prediciton App\")"
   ]
  },
  {
   "cell_type": "code",
   "execution_count": 9,
   "id": "3a334ffe",
   "metadata": {},
   "outputs": [
    {
     "name": "stderr",
     "output_type": "stream",
     "text": [
      "Traceback (most recent call last):\n",
      "  File \"C:\\Users\\adity\\anaconda3\\envs\\venv\\Scripts\\streamlit-script.py\", line 6, in <module>\n",
      "    from streamlit.cli import main\n",
      "ModuleNotFoundError: No module named 'streamlit.cli'\n"
     ]
    }
   ],
   "source": [
    "# now we need to provide the user with the options of which stocks to view\n",
    "stocks = (\"AAPL\" , \"GOOG\" , \"MSFT\" , \"GME\")\n",
    "# now we need to provide the user with the option to select which stock to view\n",
    "\n",
    "selected_stocks = st.selectbox(\"Select company dataset for prediction\" , stocks)\n",
    "\n",
    "# now we need to provide with an interactive slider to the user to select\n",
    "# the range of the years they want to see the stock prices \n",
    "n_years = st.slider(\"Select year range:\" , 1 , 4)\n",
    "# (1,4) here is the start and end value of the slider from 1 to 4 years is possible \n",
    "! streamlit run C:\\Users\\adity\\stockprediction\\stockprediction.ipynb"
   ]
  },
  {
   "cell_type": "code",
   "execution_count": null,
   "id": "14138870",
   "metadata": {},
   "outputs": [],
   "source": []
  }
 ],
 "metadata": {
  "kernelspec": {
   "display_name": "Python 3 (ipykernel)",
   "language": "python",
   "name": "python3"
  },
  "language_info": {
   "codemirror_mode": {
    "name": "ipython",
    "version": 3
   },
   "file_extension": ".py",
   "mimetype": "text/x-python",
   "name": "python",
   "nbconvert_exporter": "python",
   "pygments_lexer": "ipython3",
   "version": "3.9.16"
  }
 },
 "nbformat": 4,
 "nbformat_minor": 5
}
